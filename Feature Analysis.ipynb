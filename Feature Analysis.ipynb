{
 "cells": [
  {
   "cell_type": "code",
   "execution_count": null,
   "metadata": {},
   "outputs": [],
   "source": [
    "Plotting correlation matrix and heatmap"
   ]
  },
  {
   "cell_type": "code",
   "execution_count": null,
   "metadata": {},
   "outputs": [],
   "source": [
    "pd.options.display.float_format = '{:,.3f}'.format #Displays number upto 3 decimals only\n",
    "pd.set_option('display.max_columns', None)\n",
    "df.corr()"
   ]
  },
  {
   "cell_type": "code",
   "execution_count": null,
   "metadata": {},
   "outputs": [],
   "source": [
    "#Checking correlation between churn and other variables\n",
    "\n",
    "subjective_corr = df.corr()\n",
    "\n",
    "plt.figure(figsize=(10,100))\n",
    "sns.heatmap(subjective_corr[['churn']].sort_values(by=['churn'],ascending=False),\n",
    "            vmin=-1,\n",
    "            cmap='coolwarm',\n",
    "            annot=True);"
   ]
  },
  {
   "cell_type": "markdown",
   "metadata": {},
   "source": [
    "## Observations from scatter plot in Weka and heatmap\n",
    "The scatter plots were visualized in Weka and found Churn is not linearly correlated to any other feature. However, there are several features that are linearly correlated with each other and they could be reduced by principal component analysis"
   ]
  },
  {
   "cell_type": "code",
   "execution_count": null,
   "metadata": {},
   "outputs": [],
   "source": [
    "#Finding pairs of feature that are highly correlated with each other\n",
    "\n",
    "high_corr = df.corr().unstack().sort_values().drop_duplicates()\n",
    "hc = pd.DataFrame(high_corr)\n",
    "hc[hc[0]>0.9].sort_index()"
   ]
  },
  {
   "cell_type": "code",
   "execution_count": null,
   "metadata": {},
   "outputs": [],
   "source": [
    "The features in above dataframe are highly correlated and hence can be reduced using PCA"
   ]
  },
  {
   "cell_type": "code",
   "execution_count": null,
   "metadata": {},
   "outputs": [],
   "source": [
    "## Analysing zero skewed values"
   ]
  },
  {
   "cell_type": "code",
   "execution_count": null,
   "metadata": {},
   "outputs": [],
   "source": [
    "#Counting percentage zero values within the datseta\n",
    "\n",
    "zeros_count =pd.DataFrame((df == 0).astype(int).sum(axis=0))\n",
    "zeros_percnt=((zeros_count[0]/len(df))*100)\n",
    "zeros_percnt.sort_values(0,ascending=False).head(30)"
   ]
  },
  {
   "cell_type": "code",
   "execution_count": null,
   "metadata": {},
   "outputs": [],
   "source": [
    "This data also includes Boolean and categorical values so need to go check indivudally while comparing with pandas profiling data\n",
    "\n",
    "We can remove the columns which have more than 70% values are zero. Closer analysis reveals that following column can be removed as they are not boolean and have very few distinct values.\n",
    "\n",
    "callfwdv_Mean, recv_sms_Mean, blck_dat_Mean, drop_dat_Mean, unan_dat_Mean, mou_pead_Mean, peak_dat_Mean, opk_dat_Mean, mou_opkd_Mean, mou_cdat_Mean, comp_dat_Mean, datovr_Mean, plcd_dat_Mean"
   ]
  }
 ],
 "metadata": {
  "kernelspec": {
   "display_name": "Python 3",
   "language": "python",
   "name": "python3"
  },
  "language_info": {
   "codemirror_mode": {
    "name": "ipython",
    "version": 3
   },
   "file_extension": ".py",
   "mimetype": "text/x-python",
   "name": "python",
   "nbconvert_exporter": "python",
   "pygments_lexer": "ipython3",
   "version": "3.7.9"
  }
 },
 "nbformat": 4,
 "nbformat_minor": 4
}
